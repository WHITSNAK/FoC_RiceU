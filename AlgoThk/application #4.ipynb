{
 "cells": [
  {
   "cell_type": "code",
   "execution_count": 1,
   "source": [
    "import urllib2\r\n",
    "\r\n",
    "def read_scoring_matrix(filename):\r\n",
    "    \"\"\"\r\n",
    "    Read a scoring matrix from the file named filename.  \r\n",
    "\r\n",
    "    parameter\r\n",
    "    ---------\r\n",
    "    filename: name of file containing a scoring matrix\r\n",
    "\r\n",
    "    return\r\n",
    "    ------\r\n",
    "    A dictionary of dictionaries mapping X and Y characters to scores\r\n",
    "    \"\"\"\r\n",
    "    scoring_dict = {}\r\n",
    "    scoring_file = urllib2.urlopen(filename)\r\n",
    "    ykeys = scoring_file.readline()\r\n",
    "    ykeychars = ykeys.split()\r\n",
    "    for line in scoring_file.readlines():\r\n",
    "        vals = line.split()\r\n",
    "        xkey = vals.pop(0)\r\n",
    "        scoring_dict[xkey] = {}\r\n",
    "        for ykey, val in zip(ykeychars, vals):\r\n",
    "            scoring_dict[xkey][ykey] = int(val)\r\n",
    "    return scoring_dict\r\n",
    "\r\n",
    "\r\n",
    "def read_protein(filename):\r\n",
    "    \"\"\"\r\n",
    "    Read a protein sequence from the file named filename.\r\n",
    "\r\n",
    "    parameter\r\n",
    "    ---------\r\n",
    "    filename: name of file containing a protein sequence\r\n",
    "\r\n",
    "    return\r\n",
    "    ------\r\n",
    "    A string representing the protein\r\n",
    "    \"\"\"\r\n",
    "    protein_file = urllib2.urlopen(filename)\r\n",
    "    protein_seq = protein_file.read()\r\n",
    "    protein_seq = protein_seq.rstrip()\r\n",
    "    return protein_seq\r\n",
    "\r\n",
    "\r\n",
    "def read_words(filename):\r\n",
    "    \"\"\"\r\n",
    "    Load word list from the file named filename.\r\n",
    "\r\n",
    "    Returns a list of strings.\r\n",
    "    \"\"\"\r\n",
    "    word_file = urllib2.urlopen(filename)\r\n",
    "    words = word_file.read()\r\n",
    "    word_list = words.split('\\n')\r\n",
    "    print \"Loaded a dictionary with\", len(word_list), \"words\"\r\n",
    "    return word_list"
   ],
   "outputs": [],
   "metadata": {}
  },
  {
   "cell_type": "code",
   "execution_count": 2,
   "source": [
    "# URLs for data files\r\n",
    "PAM50_URL = \"http://storage.googleapis.com/codeskulptor-alg/alg_PAM50.txt\"\r\n",
    "HUMAN_EYELESS_URL = \"http://storage.googleapis.com/codeskulptor-alg/alg_HumanEyelessProtein.txt\"\r\n",
    "FRUITFLY_EYELESS_URL = \"http://storage.googleapis.com/codeskulptor-alg/alg_FruitflyEyelessProtein.txt\"\r\n",
    "CONSENSUS_PAX_URL = \"http://storage.googleapis.com/codeskulptor-alg/alg_ConsensusPAXDomain.txt\"\r\n",
    "WORD_LIST_URL = \"http://storage.googleapis.com/codeskulptor-assets/assets_scrabble_words3.txt\""
   ],
   "outputs": [],
   "metadata": {}
  },
  {
   "cell_type": "markdown",
   "source": [
    "# Comparing"
   ],
   "metadata": {}
  },
  {
   "cell_type": "code",
   "execution_count": 3,
   "source": [
    "from alignment import compute_alignment_matrix, compute_local_alignment\r\n",
    "\r\n",
    "seq_human = read_protein(HUMAN_EYELESS_URL)\r\n",
    "seq_ff = read_protein(FRUITFLY_EYELESS_URL)\r\n",
    "scores = read_scoring_matrix(PAM50_URL)\r\n",
    "aligns = compute_alignment_matrix(seq_human, seq_ff, scores, False)\r\n",
    "local_score, sl_human, sl_ff = compute_local_alignment(seq_human, seq_ff, scores, aligns)\r\n",
    "\r\n",
    "print local_score\r\n",
    "print sl_human\r\n",
    "print sl_ff"
   ],
   "outputs": [
    {
     "output_type": "stream",
     "name": "stdout",
     "text": [
      "875\n",
      "HSGVNQLGGVFVNGRPLPDSTRQKIVELAHSGARPCDISRILQVSNGCVSKILGRYYETGSIRPRAIGGSKPRVATPEVVSKIAQYKRECPSIFAWEIRDRLLSEGVCTNDNIPSVSSINRVLRNLASEK-QQ\n",
      "HSGVNQLGGVFVGGRPLPDSTRQKIVELAHSGARPCDISRILQVSNGCVSKILGRYYETGSIRPRAIGGSKPRVATAEVVSKISQYKRECPSIFAWEIRDRLLQENVCTNDNIPSVSSINRVLRNLAAQKEQQ\n"
     ]
    }
   ],
   "metadata": {}
  },
  {
   "cell_type": "code",
   "execution_count": 5,
   "source": [
    "import numpy as np\r\n",
    "from alignment import compute_global_alignment\r\n",
    "\r\n",
    "seq_human = sl_human.replace('-', '')\r\n",
    "seq_css = read_protein(CONSENSUS_PAX_URL)\r\n",
    "aligns = compute_alignment_matrix(seq_human, seq_css, scores, True)\r\n",
    "score, ahuman, acss = compute_global_alignment(seq_human, seq_css, scores, aligns)\r\n",
    "\r\n",
    "matched_pct = (np.array(list(ahuman)) == np.array(list(acss))).sum() / float(len(ahuman))\r\n",
    "print ahuman\r\n",
    "print acss\r\n",
    "print 'Matched Pct, Human vs PAX = {:.3f}%'.format(matched_pct*100)\r\n",
    "print score / float(len(ahuman))\r\n",
    "print \r\n",
    "\r\n",
    "\r\n",
    "seq_ff = sl_ff.replace('-', '')\r\n",
    "seq_css = read_protein(CONSENSUS_PAX_URL)\r\n",
    "aligns = compute_alignment_matrix(seq_ff, seq_css, scores, True)\r\n",
    "score, aff, acss = compute_global_alignment(seq_ff, seq_css, scores, aligns)\r\n",
    "\r\n",
    "matched_pct = (np.array(list(aff)) == np.array(list(acss))).sum() / float(len(aff))\r\n",
    "print aff\r\n",
    "print acss\r\n",
    "print 'Matched Pct, FruitFly vs PAX = {:.3f}%'.format(matched_pct*100)\r\n",
    "print score / float(len(aff))"
   ],
   "outputs": [
    {
     "output_type": "stream",
     "name": "stdout",
     "text": [
      "-HSGVNQLGGVFVNGRPLPDSTRQKIVELAHSGARPCDISRILQVSNGCVSKILGRYYETGSIRPRAIGGSKPRVATPEVVSKIAQYKRECPSIFAWEIRDRLLSEGVCTNDNIPSVSSINRVLRNLASEKQQ\n",
      "GHGGVNQLGGVFVNGRPLPDVVRQRIVELAHQGVRPCDISRQLRVSHGCVSKILGRYYETGSIKPGVIGGSKPKVATPKVVEKIAEYKRQNPTMFAWEIRDRLLAERVCDNDTVPSVSSINRIIR--------\n",
      "Matched Pct, Human vs PAX = 72.932%\n",
      "4.60902255639\n",
      "\n",
      "-HSGVNQLGGVFVGGRPLPDSTRQKIVELAHSGARPCDISRILQVSNGCVSKILGRYYETGSIRPRAIGGSKPRVATAEVVSKISQYKRECPSIFAWEIRDRLLQENVCTNDNIPSVSSINRVLRNLAAQKEQQ\n",
      "GHGGVNQLGGVFVNGRPLPDVVRQRIVELAHQGVRPCDISRQLRVSHGCVSKILGRYYETGSIKPGVIGGSKPKVATPKVVEKIAEYKRQNPTMFAWEIRDRLLAERVCDNDTVPSVSSINRIIR---------\n",
      "Matched Pct, FruitFly vs PAX = 70.149%\n",
      "4.37313432836\n"
     ]
    }
   ],
   "metadata": {}
  },
  {
   "cell_type": "markdown",
   "source": [
    "The random probability for a string over 100+ size has over 70% ordered similiarty with PAX domain choosing from a set of 23 alphabets is nearly zero.\r\n",
    "Thus, the two sequences must had some commonality from the ancestors."
   ],
   "metadata": {}
  },
  {
   "cell_type": "markdown",
   "source": [
    "# Hypothesis Testing"
   ],
   "metadata": {}
  },
  {
   "cell_type": "code",
   "execution_count": 4,
   "source": [
    "import random\r\n",
    "from alignment import compute_alignment_matrix, compute_local_alignment\r\n",
    "\r\n",
    "\r\n",
    "def generate_null_distribution(seq_x, seq_y, scores, ntrials):\r\n",
    "    dist = {}\r\n",
    "    rand_y = list(str(seq_y))\r\n",
    "\r\n",
    "    for trial_i in range(ntrials):\r\n",
    "        random.shuffle(rand_y)\r\n",
    "        _rand_y = ''.join(rand_y)\r\n",
    "        aligns = compute_alignment_matrix(seq_x, _rand_y, scores, False)\r\n",
    "        score, slx, sly = compute_local_alignment(seq_x, _rand_y, scores, aligns)\r\n",
    "        dist[score] = dist.get(score, 0) + 1\r\n",
    "    \r\n",
    "    return dist\r\n",
    "\r\n",
    "dist = generate_null_distribution(seq_human, seq_ff, scores, 1000)"
   ],
   "outputs": [],
   "metadata": {}
  },
  {
   "cell_type": "code",
   "execution_count": 5,
   "source": [
    "import pandas as pd\r\n",
    "import numpy as np\r\n",
    "import matplotlib.pyplot as plt\r\n",
    "\r\n",
    "def dist_mean(dist):\r\n",
    "    mu = (dist.index.values * dist.values).sum()\r\n",
    "    return mu\r\n",
    "\r\n",
    "def dist_moment(dist, moment=2):\r\n",
    "    mu = dist_mean(dist)\r\n",
    "    m = np.sum((dist.index.values - mu) ** moment * dist.values) ** (1/moment)\r\n",
    "    return m\r\n",
    "    \r\n",
    "pmf = pd.Series(dist)\r\n",
    "pmf = pmf / pmf.sum()"
   ],
   "outputs": [],
   "metadata": {}
  },
  {
   "cell_type": "code",
   "execution_count": 101,
   "source": [
    "mu = dist_mean(pmf)\r\n",
    "std = dist_moment(pmf, 2.0)\r\n",
    "zscore = (local_score - mu) / std\r\n",
    "\r\n",
    "print 'Mean =', mu, 'Std =', std\r\n",
    "print 'Zscore =', zscore\r\n",
    "\r\n",
    "pmf.plot(kind='bar', figsize=(12,8))\r\n",
    "plt.title('Monte Carlo Sampled Local Alignment Score Distribution')\r\n",
    "plt.xlabel('Local Alignment Score')\r\n",
    "plt.ylabel('Fraction of Trials')\r\n",
    "plt.show()"
   ],
   "outputs": [
    {
     "output_type": "stream",
     "name": "stdout",
     "text": [
      "Mean = 51.891000000000005 Std = 6.7908113653671744\n",
      "Zscore = 121.2092275450056\n"
     ]
    },
    {
     "output_type": "display_data",
     "data": {
      "image/png": "[encoded data removed]",
      "text/plain": [
       "<Figure size 864x576 with 1 Axes>"
      ]
     },
     "metadata": {
      "needs_background": "light"
     }
    }
   ],
   "metadata": {}
  },
  {
   "cell_type": "markdown",
   "source": [
    "Under the assumption of a normal distribution, given a zscore around 120, the probability of two sequences (human vs fruitfly eyeless) have such large similarities has nearly 0 chance. "
   ],
   "metadata": {}
  },
  {
   "cell_type": "markdown",
   "source": [
    "# Speeling Correction"
   ],
   "metadata": {}
  },
  {
   "cell_type": "code",
   "execution_count": 90,
   "source": [
    "from alignment import build_scoring_matrix, compute_global_alignment, compute_alignment_matrix\r\n",
    "\r\n",
    "\r\n",
    "def edit_distance(seq_x, seq_y, scores):\r\n",
    "    aligns = compute_alignment_matrix(seq_x, seq_y, scores, True)\r\n",
    "    score, _, _ = compute_global_alignment(seq_x, seq_y, scores, aligns)\r\n",
    "    return len(seq_x) + len(seq_y) - score\r\n",
    "\r\n",
    "\r\n",
    "words = set(read_words(WORD_LIST_URL))\r\n",
    "\r\n",
    "_w = ''\r\n",
    "for w in words:\r\n",
    "    _w += w\r\n",
    "alph = set(_w)\r\n",
    "scores = build_scoring_matrix(alph, 2, 1, 0)"
   ],
   "outputs": [
    {
     "output_type": "stream",
     "name": "stdout",
     "text": [
      "Loaded a dictionary with 79340 words\n"
     ]
    }
   ],
   "metadata": {}
  },
  {
   "cell_type": "code",
   "execution_count": 98,
   "source": [
    "def check_spelling(checked_word, dist, words):\r\n",
    "    global scores\r\n",
    "\r\n",
    "    res = set()\r\n",
    "    for word in words:\r\n",
    "        _dist = edit_distance(checked_word, word, scores)\r\n",
    "        if _dist <= dist:\r\n",
    "            res.add(word)\r\n",
    "    return res"
   ],
   "outputs": [],
   "metadata": {}
  },
  {
   "cell_type": "code",
   "execution_count": 96,
   "source": [
    "check_spelling('humble', 1, words)"
   ],
   "outputs": [
    {
     "output_type": "execute_result",
     "data": {
      "text/plain": [
       "{'bumble',\n",
       " 'fumble',\n",
       " 'humble',\n",
       " 'humbled',\n",
       " 'humbler',\n",
       " 'humbles',\n",
       " 'humbly',\n",
       " 'jumble',\n",
       " 'mumble',\n",
       " 'rumble',\n",
       " 'tumble'}"
      ]
     },
     "metadata": {},
     "execution_count": 96
    }
   ],
   "metadata": {}
  },
  {
   "cell_type": "code",
   "execution_count": 97,
   "source": [
    "check_spelling('firefly', 2, words)"
   ],
   "outputs": [
    {
     "output_type": "execute_result",
     "data": {
      "text/plain": [
       "{'direly',\n",
       " 'finely',\n",
       " 'fireclay',\n",
       " 'firefly',\n",
       " 'firmly',\n",
       " 'firstly',\n",
       " 'fixedly',\n",
       " 'freely',\n",
       " 'liefly',\n",
       " 'refly',\n",
       " 'tiredly'}"
      ]
     },
     "metadata": {},
     "execution_count": 97
    }
   ],
   "metadata": {}
  },
  {
   "cell_type": "markdown",
   "source": [
    "Q9:\r\n",
    "The tricks are two:\r\n",
    "- first, store all correct words in a set, so the lookup time becomes O(1). If the word it not in the word_list, it is not valid; thus, stop the operation.\r\n",
    "- second, instead of correct edit distance between all possible valid words, generate all possible 1 edit changes on the given word and check validility in the word_list. Then 2nd edit could be done given the 1st edit's valid mutations."
   ],
   "metadata": {}
  }
 ],
 "metadata": {
  "orig_nbformat": 4,
  "language_info": {
   "mimetype": "text/x-python",
   "nbconvert_exporter": "python",
   "name": "python",
   "pygments_lexer": "ipython2",
   "version": "2.7.18",
   "file_extension": ".py",
   "codemirror_mode": {
    "version": 2,
    "name": "ipython"
   }
  },
  "kernelspec": {
   "name": "python3",
   "display_name": "Python 2.7.18 64-bit ('rice': conda)"
  },
  "interpreter": {
   "hash": "a857f55f8bc764b91afedf9b6b343992349c7b613223774a892f00c972c37446"
  }
 },
 "nbformat": 4,
 "nbformat_minor": 2
}