{
 "cells": [
  {
   "cell_type": "code",
   "execution_count": 73,
   "source": [
    "import math\r\n",
    "\r\n",
    "def count_inversion(lst):\r\n",
    "    \"\"\"\r\n",
    "    MergeSort version of Inversion counter\r\n",
    "\r\n",
    "    inversion def\r\n",
    "    -------------\r\n",
    "    for index i, j in lst\r\n",
    "    a inversion is <- i<j and lst[i] > lst[j]\r\n",
    "    \"\"\"\r\n",
    "    if len(lst) <= 1:\r\n",
    "        return 0\r\n",
    "    \r\n",
    "    # split down to two subproblems\r\n",
    "    mid = len(lst) // 2\r\n",
    "    lst_b = lst[:mid]\r\n",
    "    lst_c = lst[mid:]\r\n",
    "\r\n",
    "    # recursion\r\n",
    "    il = count_inversion(lst_b)\r\n",
    "    ir = count_inversion(lst_c)\r\n",
    "    im = merge(lst_b, lst_c, lst)\r\n",
    "    return il + ir + im\r\n",
    "\r\n",
    "\r\n",
    "def merge(lst_b, lst_c, lst_a):\r\n",
    "    \"\"\"Inplace mergesort on one recursion\"\"\"\r\n",
    "    count = 0\r\n",
    "    i, j, k = 0, 0, 0\r\n",
    "    len_p, len_q = len(lst_b), len(lst_c)\r\n",
    "\r\n",
    "    while i < len_p and j < len_q:\r\n",
    "        # update the respect index\r\n",
    "        if lst_b[i] <= lst_c[j]:\r\n",
    "            lst_a[k] = lst_b[i]\r\n",
    "            i += 1\r\n",
    "        else:\r\n",
    "            lst_a[k] = lst_c[j]\r\n",
    "            j += 1\r\n",
    "\r\n",
    "            # how many items in p moved heads\r\n",
    "            # equals the number of inversion\r\n",
    "            count += len_p - i\r\n",
    "        k += 1\r\n",
    "\r\n",
    "    # update the remaining all together\r\n",
    "    if i == len_p:\r\n",
    "        for idx in range(j, len_q):\r\n",
    "            lst_a[k+idx-j] = lst_c[idx]\r\n",
    "    else:\r\n",
    "        for idx in range(i, len_p):\r\n",
    "            lst_a[k+idx-i] = lst_b[idx]\r\n",
    "        \r\n",
    "    return count"
   ],
   "outputs": [],
   "metadata": {}
  },
  {
   "cell_type": "code",
   "execution_count": 76,
   "source": [
    "# lst = [5,4,3,6,7]\r\n",
    "lst = []\r\n",
    "print lst\r\n",
    "print count_inversion(lst)\r\n",
    "print lst"
   ],
   "outputs": [
    {
     "output_type": "stream",
     "name": "stdout",
     "text": [
      "[]\n",
      "0\n",
      "[]\n"
     ]
    }
   ],
   "metadata": {}
  },
  {
   "cell_type": "code",
   "execution_count": 78,
   "source": [
    "count_inversion([2,1,4,3])"
   ],
   "outputs": [
    {
     "output_type": "execute_result",
     "data": {
      "text/plain": [
       "2"
      ]
     },
     "metadata": {},
     "execution_count": 78
    }
   ],
   "metadata": {}
  }
 ],
 "metadata": {
  "orig_nbformat": 4,
  "language_info": {
   "mimetype": "text/x-python",
   "nbconvert_exporter": "python",
   "name": "python",
   "pygments_lexer": "ipython2",
   "version": "2.7.18",
   "file_extension": ".py",
   "codemirror_mode": {
    "version": 2,
    "name": "ipython"
   }
  },
  "kernelspec": {
   "name": "python3",
   "display_name": "Python 2.7.18 64-bit ('rice': conda)"
  },
  "interpreter": {
   "hash": "a857f55f8bc764b91afedf9b6b343992349c7b613223774a892f00c972c37446"
  }
 },
 "nbformat": 4,
 "nbformat_minor": 2
}