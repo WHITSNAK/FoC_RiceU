{
 "cells": [
  {
   "cell_type": "code",
   "execution_count": 1,
   "source": [
    "%load_ext autoreload\r\n",
    "%autoreload 2\r\n",
    "\r\n",
    "import random, time\r\n",
    "import matplotlib.pyplot as plt\r\n",
    "from pair import *"
   ],
   "outputs": [],
   "metadata": {}
  },
  {
   "cell_type": "code",
   "execution_count": 80,
   "source": [
    "# plotting that tests the running time of two algos\r\n",
    "random.seed(209523948)\r\n",
    "M = 10\r\n",
    "times = []\r\n",
    "for n in range(10, 10100, 100):\r\n",
    "    points = [(random.random()*M, random.random()*M) for _ in range(n)]\r\n",
    "    points.sort(key=lambda x: x[0])  # sorted by x-coord\r\n",
    "    clusters = create_dummy_clusters(points)\r\n",
    "\r\n",
    "    stime = time.time()\r\n",
    "    min_dist, pu, pv = fast_closest_pair(clusters)\r\n",
    "    etime = time.time()\r\n",
    "    elapse = etime - stime\r\n",
    "    times.append(elapse)\r\n",
    "\r\n",
    "plt.plot(range(10, 10100, 100), times)"
   ],
   "outputs": [
    {
     "output_type": "execute_result",
     "data": {
      "text/plain": [
       "[<matplotlib.lines.Line2D at 0x78c3b48>]"
      ]
     },
     "metadata": {},
     "execution_count": 80
    },
    {
     "output_type": "display_data",
     "data": {
      "image/png": "[encoded data removed]",
      "text/plain": [
       "<Figure size 432x288 with 1 Axes>"
      ]
     },
     "metadata": {
      "needs_background": "light"
     }
    }
   ],
   "metadata": {}
  },
  {
   "cell_type": "code",
   "execution_count": 81,
   "source": [
    "# random data test for fast algo\r\n",
    "random.seed(23234)\r\n",
    "M = 10\r\n",
    "for n in range(20, 520, 20):\r\n",
    "    points = [(random.random()*M, random.random()*M) for _ in range(n)]\r\n",
    "    points.sort(key=lambda x: x[0])  # sorted by x-coord\r\n",
    "    clusters = create_dummy_clusters(points)\r\n",
    "    res_slow = slow_closest_pair(clusters)\r\n",
    "    res_fast = fast_closest_pair(clusters)\r\n",
    "    assert abs(res_slow[0] - res_fast[0]) <= 1e-4\r\n"
   ],
   "outputs": [],
   "metadata": {}
  },
  {
   "cell_type": "code",
   "execution_count": 82,
   "source": [
    "# plotting that test between fast and slow algo for correctness\r\n",
    "random.seed(6865415)\r\n",
    "M = 10\r\n",
    "points = [\r\n",
    "    (0.29530068838606094, 0.9261429782205743),\r\n",
    "    (0.39694682143442295, 6.006096517635459),\r\n",
    "    (0.4651737147285573, 5.150845815349867),\r\n",
    "    (1.5391937098671338, 8.714047930449029),\r\n",
    "    (2.0627536165444518, 7.11938520658291),\r\n",
    "    (2.0679245670402455, 1.944518661157295),\r\n",
    "    (2.742436500077876, 1.1612941030922752),\r\n",
    "    (2.8723056658340997, 7.42778956574465),\r\n",
    "    (3.1202752545820944, 8.972076628242203),\r\n",
    "    (3.6170884147014695, 3.50390822802939),\r\n",
    "    (3.662125747342589, 9.739789659582339),\r\n",
    "    (3.8655241851318323, 7.648735478658644),\r\n",
    "    (4.234446593439591, 6.188983797973931),\r\n",
    "    (6.2734163048355995, 4.088428291836864),\r\n",
    "    (6.3664307300777185, 3.9659181136697716),\r\n",
    "    (7.915386882372797, 8.187903775211087),\r\n",
    "    (7.93983239260807, 1.3033871104915506),\r\n",
    "    (8.514814357027534, 8.231756712429245),\r\n",
    "    (8.833212263099961, 8.33792402677629),\r\n",
    "    (9.331759888717958, 5.761495413919164)\r\n",
    "]\r\n",
    "clusters = create_dummy_clusters(points)\r\n",
    "\r\n",
    "plt.plot(\r\n",
    "    map(lambda x: x.horiz_center(), clusters), map(lambda x: x.vert_center(), clusters),\r\n",
    "    marker='.', linestyle='', markersize=8, color='b'\r\n",
    ")\r\n",
    "\r\n",
    "# dist, idx_u, idx_v = slow_closest_pair(clusters)\r\n",
    "dist, idx_u, idx_v = fast_closest_pair(clusters)\r\n",
    "plt.plot(\r\n",
    "    [clusters[idx_u].horiz_center(), clusters[idx_v].horiz_center()],\r\n",
    "    [clusters[idx_u].vert_center(), clusters[idx_v].vert_center()],\r\n",
    "    marker='.', linestyle='', markersize=8, color='orange'\r\n",
    ")\r\n"
   ],
   "outputs": [
    {
     "output_type": "execute_result",
     "data": {
      "text/plain": [
       "[<matplotlib.lines.Line2D at 0x8a3d688>]"
      ]
     },
     "metadata": {},
     "execution_count": 82
    },
    {
     "output_type": "display_data",
     "data": {
      "image/png": "[encoded data removed]",
      "text/plain": [
       "<Figure size 432x288 with 1 Axes>"
      ]
     },
     "metadata": {
      "needs_background": "light"
     }
    }
   ],
   "metadata": {}
  },
  {
   "cell_type": "code",
   "execution_count": 19,
   "source": [
    "import matplotlib.pyplot as plt\r\n",
    "\r\n",
    "ps = [(1,6),(1.4,5.1),(1.6,5.8),(2,1),(2.2,5.3),(2.5,6),(5,2),(5,4),(5,5),(6,4),(6,5)]\r\n",
    "clusters = create_dummy_clusters(ps)\r\n",
    "plt.plot(\r\n",
    "    map(lambda x: x.horiz_center(), clusters), map(lambda x: x.vert_center(), clusters),\r\n",
    "    marker='.', linestyle='', markersize=8, color='b'\r\n",
    ")\r\n",
    "clusters = kmeans_clustering(clusters, 4, 1)\r\n",
    "plt.plot(\r\n",
    "    map(lambda x: x.horiz_center(), clusters), map(lambda x: x.vert_center(), clusters),\r\n",
    "    marker='.', linestyle='', markersize=8, color='orange'\r\n",
    ")\r\n",
    "print clusters"
   ],
   "outputs": [
    {
     "output_type": "stream",
     "name": "stdout",
     "text": [
      "[alg_cluster.Cluster(set([3]), 2.0, 1.0, 10, 10.0), alg_cluster.Cluster(set([0, 1, 2, 4, 5]), 1.74, 5.64, 50, 10.0), alg_cluster.Cluster(set([6]), 5.0, 2.0, 10, 10.0), alg_cluster.Cluster(set([8, 9, 10, 7]), 5.5, 4.5, 40, 10.0)]\n"
     ]
    },
    {
     "output_type": "display_data",
     "data": {
      "image/png": "[encoded data removed]",
      "text/plain": [
       "<Figure size 432x288 with 1 Axes>"
      ]
     },
     "metadata": {
      "needs_background": "light"
     }
    }
   ],
   "metadata": {}
  },
  {
   "cell_type": "code",
   "execution_count": 34,
   "source": [
    "from alg_cluster import Cluster\r\n",
    "from test_pair import load_data_table, set_of_county_tuples\r\n",
    "\r\n",
    "\r\n",
    "_data = load_data_table(r'data/unifiedCancerData_24.csv')\r\n",
    "_data = [Cluster(set([d[0]]), *d[1:]) for d in _data]\r\n",
    "data = {\r\n",
    "    'data': _data,\r\n",
    "    'expected': [\r\n",
    "        # ['cancer_24', 15, 1, set([('34017', '36061'), ('06037',), ('06059',), ('36047',), ('36081',), ('06071', '08031'), ('36059',), ('36005',), ('55079',), ('34013', '34039'), ('06075',), ('01073',), ('06029',), ('41051', '41067'), ('11001', '24510', '51013', '51760', '51840', '54009')])], \r\n",
    "        # ['cancer_24', 15, 3, set([('34017', '36061'), ('06037', '06059'), ('06071',), ('36047',), ('36081',), ('08031',), ('36059',), ('36005',), ('55079',), ('34013', '34039'), ('06075',), ('01073',), ('06029',), ('41051', '41067'), ('11001', '24510', '51013', '51760', '51840', '54009')])],\r\n",
    "        # ['cancer_24', 15, 5, set([('34017', '36061'), ('06037', '06059'), ('06071',), ('36047',), ('36081',), ('08031',), ('36059',), ('36005',), ('55079',), ('34013', '34039'), ('06075',), ('01073',), ('06029',), ('41051', '41067'), ('11001', '24510', '51013', '51760', '51840', '54009')])],\r\n",
    "        # ['cancer_24', 10, 1, set([('34017', '36061'), ('06029', '06037', '06075'), ('11001', '24510', '34013', '34039', '51013', '51760', '51840', '54009'), ('06059',), ('36047',), ('36081',), ('06071', '08031', '41051', '41067'), ('36059',), ('36005',), ('01073', '55079')])],\r\n",
    "        # ['cancer_24', 10, 3, set([('34013', '34017', '36061'), ('06029', '06037', '06075'), ('08031', '41051', '41067'), ('06059', '06071'), ('34039', '36047'), ('36081',), ('36059',), ('36005',), ('01073', '55079'), ('11001', '24510', '51013', '51760', '51840', '54009')])],\r\n",
    "        # ['cancer_24', 10, 5, set([('34013', '34017', '36061'), ('06029', '06037', '06075'), ('08031', '41051', '41067'), ('06059', '06071'), ('34039', '36047'), ('36081',), ('36059',), ('36005',), ('01073', '55079'), ('11001', '24510', '51013', '51760', '51840', '54009')])],\r\n",
    "        ['cancer_24', 5, 1, set([('06029', '06037', '06075'), ('01073', '11001', '24510', '34013', '34017', '34039', '36047', '51013', '51760', '51840', '54009', '55079'), ('06059',), ('36005', '36059', '36061', '36081'), ('06071', '08031', '41051', '41067')])],\r\n",
    "        # ['cancer_24', 5, 3, set([('06029', '06037', '06075'), ('11001', '24510', '34013', '34017', '34039', '36005', '36047', '36059', '36061', '36081', '51013'), ('08031', '41051', '41067'), ('06059', '06071'), ('01073', '51760', '51840', '54009', '55079')])],\r\n",
    "        # ['cancer_24', 5, 5, set([('06029', '06037', '06075'), ('08031', '41051', '41067'), ('06059', '06071'), ('01073', '55079'), ('11001', '24510', '34013', '34017', '34039', '36005', '36047', '36059', '36061', '36081', '51013', '51760', '51840', '54009')])],\r\n",
    "    ],\r\n",
    "}\r\n",
    "\r\n",
    "clusters = data['data']\r\n",
    "for _, k, niter, expected in data['expected']:\r\n",
    "    # no mutate on original list\r\n",
    "    copy_clusters = [c.copy() for c in clusters]\r\n",
    "    kmeans = kmeans_clustering(copy_clusters, k, niter)\r\n",
    "    try:\r\n",
    "        assert set_of_county_tuples(kmeans) == expected\r\n",
    "    except:\r\n",
    "        print set_of_county_tuples(kmeans)\r\n",
    "        print k, niter\r\n",
    "        print expected\r\n",
    "        break"
   ],
   "outputs": [],
   "metadata": {}
  },
  {
   "cell_type": "code",
   "execution_count": 35,
   "source": [],
   "outputs": [
    {
     "output_type": "stream",
     "name": "stdout",
     "text": [
      "set([('01073', '11001', '24510', '51013', '51760', '51840', '54009', '55079'), ('06029', '06037', '06059', '06071', '06075'), ('08031',), ('34013', '34017', '34039', '36005', '36047', '36059', '36061', '36081'), ('41051', '41067')])\n",
      "5 1\n",
      "set([('36005', '36059', '36061', '36081'), ('06059',), ('06029', '06037', '06075'), ('06071', '08031', '41051', '41067'), ('01073', '11001', '24510', '34013', '34017', '34039', '36047', '51013', '51760', '51840', '54009', '55079')])\n"
     ]
    }
   ],
   "metadata": {}
  }
 ],
 "metadata": {
  "orig_nbformat": 4,
  "language_info": {
   "mimetype": "text/x-python",
   "nbconvert_exporter": "python",
   "name": "python",
   "pygments_lexer": "ipython2",
   "version": "2.7.18",
   "file_extension": ".py",
   "codemirror_mode": {
    "version": 2,
    "name": "ipython"
   }
  },
  "kernelspec": {
   "name": "python3",
   "display_name": "Python 2.7.18 64-bit ('rice': conda)"
  },
  "interpreter": {
   "hash": "a857f55f8bc764b91afedf9b6b343992349c7b613223774a892f00c972c37446"
  }
 },
 "nbformat": 4,
 "nbformat_minor": 2
}