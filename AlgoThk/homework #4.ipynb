{
 "cells": [
  {
   "cell_type": "code",
   "execution_count": 6,
   "source": [
    "DATA = {}\r\n",
    "def cache(func):\r\n",
    "    def wrapper(*args):\r\n",
    "        _data = tuple(args)\r\n",
    "        if _data in DATA:\r\n",
    "            return DATA[_data]\r\n",
    "        res = func(*args)\r\n",
    "        DATA[_data] = res\r\n",
    "        return res\r\n",
    "    return wrapper\r\n",
    "\r\n",
    "@cache\r\n",
    "def nga(m, n):\r\n",
    "    if m==1 or n==1:\r\n",
    "        return max(m, n) * 2 + 1\r\n",
    "    return nga(m-1, n) + nga(m-1, n-1) + nga(m, n-1)"
   ],
   "outputs": [],
   "metadata": {}
  }
 ],
 "metadata": {
  "orig_nbformat": 4,
  "language_info": {
   "mimetype": "text/x-python",
   "nbconvert_exporter": "python",
   "name": "python",
   "pygments_lexer": "ipython2",
   "version": "2.7.18",
   "file_extension": ".py",
   "codemirror_mode": {
    "version": 2,
    "name": "ipython"
   }
  },
  "kernelspec": {
   "name": "python3",
   "display_name": "Python 2.7.18 64-bit ('rice': conda)"
  },
  "interpreter": {
   "hash": "a857f55f8bc764b91afedf9b6b343992349c7b613223774a892f00c972c37446"
  }
 },
 "nbformat": 4,
 "nbformat_minor": 2
}