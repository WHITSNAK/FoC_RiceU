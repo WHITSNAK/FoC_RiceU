{
    "cells": [
        {
            "cell_type": "code",
            "execution_count": 23,
            "source": [
                "import random\r\n",
                "\r\n",
                "class Card:\r\n",
                "    def __init__(self, v):\r\n",
                "        self.v = v\r\n",
                "\r\n",
                "    def __str__(self):\r\n",
                "        return str(self.v)\r\n",
                "\r\n",
                "    def __repr__(self):\r\n",
                "        return self.__str__()\r\n",
                "\r\n",
                "l = [Card(10), Card(20), Card(50)]"
            ],
            "outputs": [],
            "metadata": {}
        },
        {
            "cell_type": "code",
            "execution_count": 24,
            "source": [
                "l"
            ],
            "outputs": [
                {
                    "output_type": "execute_result",
                    "data": {
                        "text/plain": [
                            "[10, 20, 50]"
                        ]
                    },
                    "metadata": {},
                    "execution_count": 24
                }
            ],
            "metadata": {}
        },
        {
            "cell_type": "code",
            "execution_count": 25,
            "source": [
                "random.shuffle(l)"
            ],
            "outputs": [],
            "metadata": {}
        },
        {
            "cell_type": "code",
            "execution_count": 26,
            "source": [
                "l"
            ],
            "outputs": [
                {
                    "output_type": "execute_result",
                    "data": {
                        "text/plain": [
                            "[50, 20, 10]"
                        ]
                    },
                    "metadata": {},
                    "execution_count": 26
                }
            ],
            "metadata": {}
        }
    ],
    "metadata": {
        "orig_nbformat": 4,
        "language_info": {
            "name": "python",
            "version": "3.8.5",
            "mimetype": "text/x-python",
            "codemirror_mode": {
                "name": "ipython",
                "version": 3
            },
            "pygments_lexer": "ipython3",
            "nbconvert_exporter": "python",
            "file_extension": ".py"
        },
        "kernelspec": {
            "name": "python3",
            "display_name": "Python 3.8.5 64-bit ('base': conda)"
        },
        "interpreter": {
            "hash": "953e921e75f8b4c26dea58d124160352c5b7006d92053e7a19fa8af8b405b1de"
        }
    },
    "nbformat": 4,
    "nbformat_minor": 2
}