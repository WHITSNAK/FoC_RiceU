{
 "cells": [
  {
   "cell_type": "code",
   "execution_count": 4,
   "metadata": {},
   "outputs": [],
   "source": [
    "class BankAccount:\n",
    "    def __init__(self, initial_balance):\n",
    "        \"\"\"\n",
    "        Creates an account with the given balance.\n",
    "        \"\"\"\n",
    "        self._balance = initial_balance\n",
    "        self._fees = 0\n",
    "\n",
    "    def deposit(self, amount):\n",
    "        \"\"\"\n",
    "        Deposits the amount into the account.\n",
    "        \"\"\"\n",
    "        self._balance += amount\n",
    "\n",
    "    def withdraw(self, amount):\n",
    "        \"\"\"\n",
    "        Withdraws the amount from the account.  \n",
    "        Each withdrawal resulting in a balance of \n",
    "        less than 10 dollars (before any fees) also \n",
    "        deducts a penalty fee of 5 dollars from the balance.\n",
    "        \"\"\"\n",
    "        self._balance -= amount\n",
    "\n",
    "        if self._balance < 10:\n",
    "            self._balance -= 5\n",
    "            self._fees += 5\n",
    "\n",
    "    def get_balance(self):\n",
    "        \"\"\"\n",
    "        Returns the current balance in the account.\n",
    "        \"\"\"\n",
    "        return self._balance\n",
    "\n",
    "    def get_fees(self):\n",
    "        \"\"\"\n",
    "        Returns the total fees ever deducted from the account.\n",
    "        \"\"\"\n",
    "        return self._fees"
   ]
  },
  {
   "cell_type": "code",
   "execution_count": 6,
   "metadata": {},
   "outputs": [
    {
     "name": "stdout",
     "output_type": "stream",
     "text": [
      "-65 55 40 25\n"
     ]
    }
   ],
   "source": [
    "account1 = BankAccount(20)\n",
    "account1.deposit(10)\n",
    "account2 = BankAccount(10)\n",
    "account2.deposit(10)\n",
    "account2.withdraw(50)\n",
    "account1.withdraw(15)\n",
    "account1.withdraw(10)\n",
    "account2.deposit(30)\n",
    "account2.withdraw(15)\n",
    "account1.deposit(5)\n",
    "account1.withdraw(10)\n",
    "account2.withdraw(10)\n",
    "account2.deposit(25)\n",
    "account2.withdraw(15)\n",
    "account1.deposit(10)\n",
    "account1.withdraw(50)\n",
    "account2.deposit(25)\n",
    "account2.deposit(25)\n",
    "account1.deposit(30)\n",
    "account2.deposit(10)\n",
    "account1.withdraw(15)\n",
    "account2.withdraw(10)\n",
    "account1.withdraw(10)\n",
    "account2.deposit(15)\n",
    "account2.deposit(10)\n",
    "account2.withdraw(15)\n",
    "account1.deposit(15)\n",
    "account1.withdraw(20)\n",
    "account2.withdraw(10)\n",
    "account2.deposit(5)\n",
    "account2.withdraw(10)\n",
    "account1.deposit(10)\n",
    "account1.deposit(20)\n",
    "account2.withdraw(10)\n",
    "account2.deposit(5)\n",
    "account1.withdraw(15)\n",
    "account1.withdraw(20)\n",
    "account1.deposit(5)\n",
    "account2.deposit(10)\n",
    "account2.deposit(15)\n",
    "account2.deposit(20)\n",
    "account1.withdraw(15)\n",
    "account2.deposit(10)\n",
    "account1.deposit(25)\n",
    "account1.deposit(15)\n",
    "account1.deposit(10)\n",
    "account1.withdraw(10)\n",
    "account1.deposit(10)\n",
    "account2.deposit(20)\n",
    "account2.withdraw(15)\n",
    "account1.withdraw(20)\n",
    "account1.deposit(5)\n",
    "account1.deposit(10)\n",
    "account2.withdraw(20)\n",
    "print account1.get_balance(), account1.get_fees(), account2.get_balance(), account2.get_fees()"
   ]
  },
  {
   "cell_type": "code",
   "execution_count": 16,
   "metadata": {},
   "outputs": [
    {
     "name": "stdout",
     "output_type": "stream",
     "text": [
      "Player chooses rock\n",
      "Computer chooses Spock\n",
      "Computer wins!\n",
      "\n",
      "Player chooses Spock\n",
      "Computer chooses paper\n",
      "Computer wins!\n",
      "\n",
      "Player chooses paper\n",
      "Computer chooses lizard\n",
      "Computer wins!\n",
      "\n",
      "Player chooses lizard\n",
      "Computer chooses rock\n",
      "Computer wins!\n",
      "\n",
      "Player chooses scissors\n",
      "Computer chooses scissors\n",
      "Player and computer tie!\n",
      "\n"
     ]
    }
   ],
   "source": [
    "# Rock-paper-scissors-lizard-Spock\n",
    "# The key idea of this program is to equate the strings\n",
    "# \"rock\", \"paper\", \"scissors\", \"lizard\", \"Spock\" to numbers\n",
    "# as follows:\n",
    "#\n",
    "# 0 - rock\n",
    "# 1 - Spock\n",
    "# 2 - paper\n",
    "# 3 - lizard\n",
    "# 4 - scissors\n",
    "\n",
    "from random import randrange\n",
    "\n",
    "random.seed(525234)\n",
    "def name_to_number(name):\n",
    "    if name == 'rock':\n",
    "        return 0\n",
    "    elif name == 'Spock':\n",
    "        return 1\n",
    "    elif name == 'paper':\n",
    "        return 2\n",
    "    elif name == 'lizard':\n",
    "        return 3\n",
    "    elif name == 'scissors':\n",
    "        return 4\n",
    "    else:\n",
    "        return\n",
    "\n",
    "\n",
    "def number_to_name(number):\n",
    "    if number == 0:\n",
    "        return 'rock'\n",
    "    elif number == 1:\n",
    "        return 'Spock'\n",
    "    elif number == 2:\n",
    "        return 'paper'\n",
    "    elif number == 3:\n",
    "        return 'lizard'\n",
    "    elif number == 4:\n",
    "        return 'scissors'\n",
    "    else:\n",
    "        return\n",
    "\n",
    "def is_win(a, b):\n",
    "    c = (a - b) % 5\n",
    "    \n",
    "    if c in [1, 2]:\n",
    "        return 1\n",
    "    elif c in [3, 4]:\n",
    "        return -1\n",
    "    else:\n",
    "        return 0\n",
    "    \n",
    "\n",
    "def rpsls(choice): \n",
    "    player_n = name_to_number(choice)\n",
    "    computer_n = randrange(0, 5)\n",
    "    \n",
    "    print('Player chooses {}'.format(number_to_name(player_n)))\n",
    "    print('Computer chooses {}'.format(number_to_name(computer_n)))\n",
    "    \n",
    "    win_code = is_win(player_n, computer_n)\n",
    "    if win_code == 1:\n",
    "        print('Player wins!\\n')\n",
    "    elif win_code == -1:\n",
    "        print('Computer wins!\\n')\n",
    "    else:\n",
    "        print('Player and computer tie!\\n')\n",
    "                 \n",
    "    \n",
    "# test your code - THESE CALLS MUST BE PRESENT IN YOUR SUBMITTED CODE\n",
    "rpsls(\"rock\")\n",
    "rpsls(\"Spock\")\n",
    "rpsls(\"paper\")\n",
    "rpsls(\"lizard\")\n",
    "rpsls(\"scissors\")\n"
   ]
  },
  {
   "cell_type": "code",
   "execution_count": 22,
   "metadata": {},
   "outputs": [
    {
     "data": {
      "text/plain": [
       "0.0007716049382716047"
      ]
     },
     "execution_count": 22,
     "metadata": {},
     "output_type": "execute_result"
    }
   ],
   "source": [
    "6.*((1/6.)**5)"
   ]
  },
  {
   "cell_type": "code",
   "execution_count": 36,
   "metadata": {},
   "outputs": [],
   "source": [
    "import math\n",
    "\n",
    "unfair_die = {\n",
    "    1: 0.1, 2: 0.2, 3: 0.3, 4:0.15, 5:0.05, 6:0.2\n",
    "}\n",
    "\n",
    "def probability_ufd(outcomes):\n",
    "    res = 1\n",
    "    for outcome in outcomes:\n",
    "        res *= unfair_die[outcome]\n",
    "    return res * math.factorial(len(outcomes))"
   ]
  },
  {
   "cell_type": "code",
   "execution_count": 85,
   "metadata": {},
   "outputs": [],
   "source": [
    "from FoC_RiceU.PoC.poc_grid import Grid\n",
    "from collections import deque\n",
    "import random\n",
    "\n",
    "HEIGHT, WIDTH = 4, 6\n",
    "\n",
    "\n",
    "def index_to_num(row, col):\n",
    "    return row * WIDTH + col\n",
    "\n",
    "def num_to_index(num):\n",
    "    return num//WIDTH, num%WIDTH\n",
    "\n",
    "def bfs(grid, start_pos):\n",
    "    visited = []\n",
    "    que = deque()\n",
    "    que.appendleft(start_pos)\n",
    "    grid.set_full(*start_pos)\n",
    "\n",
    "    while len(que) != 0:\n",
    "        pos = que.pop()\n",
    "        visited.append(index_to_num(*pos))\n",
    "\n",
    "        neighs = grid.four_neighbors(*pos)\n",
    "        random.shuffle(neighs)\n",
    "        for neigh in neighs:\n",
    "            if grid.is_empty(*neigh):\n",
    "                que.appendleft(neigh)\n",
    "                grid.set_full(*neigh)\n",
    "        \n",
    "    return visited   \n",
    "\n",
    "res = []\n",
    "for i in range(10000):\n",
    "    grid = Grid(HEIGHT, WIDTH)\n",
    "    blocks = [3, 6, 8, 11, 18, 22]\n",
    "    for block in blocks:\n",
    "        grid.set_full(*num_to_index(block))\n",
    "\n",
    "    res.append(bfs(grid, num_to_index(15)))\n"
   ]
  },
  {
   "cell_type": "code",
   "execution_count": 98,
   "metadata": {},
   "outputs": [
    {
     "data": {
      "text/plain": [
       "[]"
      ]
     },
     "execution_count": 98,
     "metadata": {},
     "output_type": "execute_result"
    }
   ],
   "source": [
    "lst = [15,9,14,16,21,10,13,20,19,7,4,12,17]\n",
    "filter(lambda x: x[:len(lst)] == lst, res)"
   ]
  },
  {
   "cell_type": "code",
   "execution_count": 159,
   "metadata": {},
   "outputs": [],
   "source": [
    "class Tree:\n",
    "    \"\"\"\n",
    "    Recursive definition for trees plus various tree methods\n",
    "    \"\"\"\n",
    "    \n",
    "    def __init__(self, value, children):\n",
    "        \"\"\"\n",
    "        Create a tree whose root has specific value (a string)\n",
    "        Children is a list of references to the roots of the subtrees.  \n",
    "        \"\"\"\n",
    "        \n",
    "        self._value = value\n",
    "        self._children = children\n",
    "        \n",
    "        \n",
    "    def __str__(self):\n",
    "        \"\"\"\n",
    "        Generate a string representation of the tree\n",
    "        Use an pre-order traversal of the tree\n",
    "        \"\"\"\n",
    "        \n",
    "        ans = \"T[\"\n",
    "        ans += str(self._value)\n",
    "                   \n",
    "        for child in self._children:\n",
    "             ans += \", \"\n",
    "             ans += str(child)\n",
    "        return ans + \"]\"\n",
    "\n",
    "    def get_value(self):\n",
    "        \"\"\"\n",
    "        Getter for node's value\n",
    "        \"\"\"\n",
    "        return self._value\n",
    "\n",
    "    def children(self):\n",
    "        \"\"\"\n",
    "        Generator to return children\n",
    "        \"\"\"\n",
    "        for child in self._children:\n",
    "            yield child\n",
    "                    \n",
    "    def num_nodes(self):\n",
    "        \"\"\"\n",
    "        Compute number of nodes in the tree\n",
    "        \"\"\"\n",
    "        ans = 1\n",
    "        for child in self._children:\n",
    "            ans += child.num_nodes()\n",
    "        return ans\n",
    "    \n",
    "    def num_leaves(self):\n",
    "        \"\"\"\n",
    "        Count number of leaves in tree\n",
    "        \"\"\"\n",
    "        if len(self._children) == 0:\n",
    "            return 1\n",
    "        \n",
    "        ans = 0\n",
    "        for child in self._children:\n",
    "            ans += child.num_leaves()\n",
    "        return ans\n",
    "\n",
    "    def height(self):\n",
    "        \"\"\"\n",
    "        Compute height of a tree rooted by self\n",
    "        \"\"\"\n",
    "        height = 0\n",
    "        for child in self._children:\n",
    "            height = max(height, child.height() + 1)\n",
    "        return height"
   ]
  },
  {
   "cell_type": "code",
   "execution_count": 183,
   "metadata": {},
   "outputs": [],
   "source": [
    "def minimax_tree(board):\n",
    "    state = list(board)\n",
    "    \n",
    "    if len(state) == 2: # root state\n",
    "        left_child = Tree(state[0], [Tree(state[-1], [])])\n",
    "        right_child = Tree(state[-1], [Tree(state[0], [])])\n",
    "        return Tree(('A', max(state), max(state), min(state)), [left_child, right_child])\n",
    "    else:\n",
    "        left_subtree = minimax_tree(state[1:])\n",
    "        right_subtree = minimax_tree(state[:-1])\n",
    "        lv, rv = left_subtree.get_value(), right_subtree.get_value()\n",
    "        if len(state) % 2 == 0:  # even state A's move\n",
    "            if state[0] + lv[2] >= state[-1] + rv[2]:\n",
    "                move = ('A', state[0], state[0]+lv[2], lv[3])\n",
    "            else:\n",
    "                move = ('A', state[-1], state[-1]+rv[2], rv[3])\n",
    "        else:  # odd state B's move\n",
    "            if state[0] + lv[3] >= state[-1] + rv[3]:\n",
    "                move = ('B', state[0], lv[2], state[0]+lv[3])\n",
    "            else:\n",
    "                move = ('B', state[-1], rv[2], state[-1]+rv[3])\n",
    "        return Tree(move, [Tree(state[0], [left_subtree]), Tree(state[-1], [right_subtree])])"
   ]
  },
  {
   "cell_type": "code",
   "execution_count": 195,
   "metadata": {},
   "outputs": [
    {
     "name": "stdout",
     "output_type": "stream",
     "text": [
      "('A', 1, 6, 5)\n"
     ]
    }
   ],
   "source": [
    "board = [3, 5, 2, 1]\n",
    "print(minimax_tree(board).get_value())"
   ]
  },
  {
   "cell_type": "code",
   "execution_count": 182,
   "metadata": {},
   "outputs": [
    {
     "name": "stdout",
     "output_type": "stream",
     "text": [
      "('A', 12, 81, 62)\n"
     ]
    }
   ],
   "source": [
    "board = [12, 9, 7, 3, 4, 7, 4, 7, 3, 16, 4, 8, 12, 1, 2, 7, 11, 6, 3, 9, 7, 1]\n",
    "print(minimax_tree(board).get_value())"
   ]
  },
  {
   "cell_type": "code",
   "execution_count": 2,
   "metadata": {},
   "outputs": [
    {
     "name": "stdout",
     "output_type": "stream",
     "text": [
      "91409924241424243424241924242500\n",
      "395940866122425193243875570782668457763038822400000000000000000000\n",
      "10000000000000000000000000000000000000000000000000000000000000000000000000000000000000000000000000000000000000000000000000000000000000000000000000000000000000000000000000000000000000000000000000000000000000000000000000000000000000000000000000000000000000000000000000000000000000000000000000000000000000000000000000000000000000000000000000000000000000000000000000000000000000000000000000000000000000000000000000000000000000000000000000000000000000000000000000000000000000000000000000000000000000000000000000000000000000000000000000000000000000000000000000000000000000000000000000000000000000000000000000000000000000000000000000000000000000000000000000000000000000000000000000000000000000000000000000000000000000000000000000000000000000000000000000000000000000000000000000000000000000000000000000000000000000000000000000000000000000000000000000000000000000000000000000000000000000000000000000000000000000000000000000000000000000000000000000000000000000000000000000000000000000000000000000000000000000000\n"
     ]
    }
   ],
   "source": [
    "import math\n",
    "\n",
    "n = 10\n",
    "print sum([i**n for i in range(1, 1001)])\n",
    "print math.factorial(n) ** n\n",
    "print n ** 1000"
   ]
  },
  {
   "cell_type": "code",
   "execution_count": 8,
   "metadata": {},
   "outputs": [],
   "source": [
    "import numpy as np\n",
    "\n",
    "def transitive_closure(graph):\n",
    "    R = A.copy()\n",
    "    n = graph.shape[0]\n",
    "    for k in range(n):\n",
    "        for i in range(n):\n",
    "            for j in range(n):\n",
    "                R[i, j] = R[i, j] or (R[i, k] and R[k ,j])\n",
    "    return R\n",
    "\n",
    "A = np.array([\n",
    "    [0, 1, 1, 0],\n",
    "    [0, 0, 1, 0],\n",
    "    [1, 0, 0, 1],\n",
    "    [0, 0, 0, 0],\n",
    "])"
   ]
  },
  {
   "cell_type": "code",
   "execution_count": 9,
   "metadata": {},
   "outputs": [
    {
     "data": {
      "text/plain": [
       "array([[1, 1, 1, 1],\n",
       "       [1, 1, 1, 1],\n",
       "       [1, 1, 1, 1],\n",
       "       [0, 0, 0, 0]])"
      ]
     },
     "execution_count": 9,
     "metadata": {},
     "output_type": "execute_result"
    }
   ],
   "source": [
    "transitive_closure(A)"
   ]
  },
  {
   "cell_type": "code",
   "execution_count": 46,
   "metadata": {},
   "outputs": [
    {
     "name": "stdout",
     "output_type": "stream",
     "text": [
      "3\n",
      "1\n",
      "6\n",
      "9\n",
      "10\n",
      "11\n"
     ]
    }
   ],
   "source": [
    "\"\"\"\n",
    "Example graphs for Question 25 on the Capstone Exam\n",
    "\"\"\"\n",
    "\n",
    "# Example graphs\n",
    "\n",
    "GRAPH1 = {1 : set([]), 2 : set([3, 7]), 3 : set([2, 4]), 4 : set([3, 5]), 5 : set([4, 6]), 6 : set([5, 7]), 7 : set([2, 6])}\n",
    "\n",
    "GRAPH2 = {1 : set([2, 3, 4, 5, 6, 7]), 2 : set([1]), 3 : set([1]), 4 : set([1]), 5 : set([1]), 6 : set([1]), 7 : set([1])}\n",
    "\n",
    "GRAPH3 = {0: set([4, 7, 10]), 1: set([5, 6]), 2: set([7, 11]), 3: set([10]), 4: set([0, 7, 11]), 5: set([1, 7]), 6: set([1]), 7: set([0, 2, 4, 5, 9, 11]), 8: set([9]), 9: set([7, 8]), 10: set([0, 3]), 11: set([2, 4, 7])}\n",
    "\n",
    "GRAPH4 = {0: set([4, 7, 10, 12, 13]), 1: set([5, 6, 12]), 2: set([7, 11, 12, 14]), 3: set([10, 14, 15]), 4: set([0, 7, 11, 12, 13, 14]), 5: set([1, 7, 15]), 6: set([1, 13]), 7: set([0, 2, 4, 5, 9, 11, 14]), 8: set([9, 14, 15]), 9: set([7, 8]), 10: set([0, 3]), 11: set([2, 4, 7]), 12: set([0, 1, 2, 4]), 13: set([0, 4, 6, 15]), 14: set([2, 3, 4, 7, 8]), 15: set([3, 5, 8, 13])}\n",
    "\n",
    "GRAPH5 = {0: set([4, 7, 10, 12, 13, 16]), 1: set([5, 6, 12]), 2: set([7, 11, 12, 14]), 3: set([10, 14, 15]), 4: set([0, 7, 11, 12, 13, 14, 17]), 5: set([1, 7, 15]), 6: set([1, 13]), 7: set([0, 2, 4, 5, 9, 11, 14, 18]), 8: set([9, 14, 15]), 9: set([7, 8, 19]), 10: set([0, 3]), 11: set([2, 4, 7]), 12: set([0, 1, 2, 4]), 13: set([0, 4, 6, 15, 16]), 14: set([2, 3, 4, 7, 8]), 15: set([3, 5, 8, 13]), 16: set([0, 13, 19]), 17: set([4]), 18: set([7]), 19: set([9, 16])}\n",
    "\n",
    "GRAPH6 = {0: set([4, 7, 10, 12, 13, 16]), 1: set([5, 6, 12]), 2: set([7, 11, 12, 14]), 3: set([10, 14, 15]), 4: set([0, 7, 11, 12, 13, 14, 17]), 5: set([1, 7, 15]), 6: set([1, 13]), 7: set([0, 2, 4, 5, 9, 11, 14, 18]), 8: set([9, 14, 15]), 9: set([7, 8, 19]), 10: set([0, 3]), 11: set([2, 4, 7]), 12: set([0, 1, 2, 4]), 13: set([0, 4, 6, 15, 16]), 14: set([2, 3, 4, 7, 8]), 15: set([3, 5, 8, 13]), 16: set([0, 13, 17, 19]), 17: set([4, 16]), 18: set([7]), 19: set([9, 16])}\n",
    "\n",
    "# Testing \n",
    "print len(mystery(GRAPH1)[0])     # answer should be 3\n",
    "print len(mystery(GRAPH2)[0])     # answer should be 1\n",
    "print len(mystery(GRAPH3)[0])     # answer should be 6\n",
    "print len(mystery(GRAPH4)[0])     # answer should be 9\n",
    "print len(mystery(GRAPH5)[0])\n",
    "print len(mystery(GRAPH6)[0])\n"
   ]
  },
  {
   "cell_type": "code",
   "execution_count": 34,
   "metadata": {},
   "outputs": [],
   "source": [
    "from itertools import combinations\n",
    "\n",
    "def get_all_edges(graph):\n",
    "    \"\"\"Yield all edges pair in g=(V,E) of E\"\"\"\n",
    "    for node, neighs in graph.items():\n",
    "        for edge in construct_edges(node, neighs):\n",
    "            yield edge\n",
    "\n",
    "def construct_edges(node, neighs):\n",
    "    \"\"\"Get edges pair from a adjcant list structure pair\"\"\"\n",
    "    for neigh in neighs:\n",
    "        yield set([node, neigh])\n",
    "\n",
    "def mystery(graph):\n",
    "    nodes = list(graph.keys())\n",
    "    num = len(nodes)\n",
    "    res = []\n",
    "\n",
    "    # all subset size\n",
    "    for size in range(num + 1):\n",
    "        # all subsets at this particular size\n",
    "        for subset_v in combinations(nodes, size):\n",
    "            _subset_v = set(subset_v)\n",
    "            flag = True\n",
    "\n",
    "            # check include at least on of edge endpoint\n",
    "            for edge in get_all_edges(graph):\n",
    "                if len(_subset_v.intersection(edge)) == 0:\n",
    "                    flag = False\n",
    "                    if not flag: break\n",
    "            \n",
    "            if flag:\n",
    "                res.append(subset_v)\n",
    "        \n",
    "        # only wants the minmial size subsets\n",
    "        if len(res) != 0:\n",
    "            break\n",
    "    \n",
    "    return res"
   ]
  },
  {
   "cell_type": "code",
   "execution_count": 39,
   "metadata": {},
   "outputs": [],
   "source": [
    "graph = {\n",
    "    1: set([2, 3, 4, 5, 6, 7]),\n",
    "    2: set([1, 3, 7]),\n",
    "    3: set([2, 1, 4]),\n",
    "    4: set([3, 1, 5]),\n",
    "    5: set([4, 1, 6]),\n",
    "    6: set([7, 1, 5]),\n",
    "    7: set([2, 1, 6]),\n",
    "}\n",
    "graph2 = {\n",
    "    1: set([2, 3, 4, 5, 6, 7]),\n",
    "    2: set([1]),\n",
    "    3: set([1]),\n",
    "    4: set([1]),\n",
    "    5: set([1]),\n",
    "    6: set([1]),\n",
    "    7: set([1]),\n",
    "}"
   ]
  },
  {
   "cell_type": "code",
   "execution_count": 41,
   "metadata": {},
   "outputs": [
    {
     "data": {
      "text/plain": [
       "[(1,)]"
      ]
     },
     "execution_count": 41,
     "metadata": {},
     "output_type": "execute_result"
    }
   ],
   "source": [
    "mystery(graph2)"
   ]
  }
 ],
 "metadata": {
  "interpreter": {
   "hash": "a857f55f8bc764b91afedf9b6b343992349c7b613223774a892f00c972c37446"
  },
  "kernelspec": {
   "display_name": "Python 2.7.18 64-bit ('rice': conda)",
   "name": "python3"
  },
  "language_info": {
   "codemirror_mode": {
    "name": "ipython",
    "version": 2
   },
   "file_extension": ".py",
   "mimetype": "text/x-python",
   "name": "python",
   "nbconvert_exporter": "python",
   "pygments_lexer": "ipython2",
   "version": "2.7.18"
  },
  "orig_nbformat": 4
 },
 "nbformat": 4,
 "nbformat_minor": 2
}
